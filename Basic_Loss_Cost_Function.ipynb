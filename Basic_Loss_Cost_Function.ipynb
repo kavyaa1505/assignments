{
  "cells": [
    {
      "cell_type": "code",
      "execution_count": 1,
      "metadata": {
        "id": "l0g20VOnI0rK"
      },
      "outputs": [],
      "source": [
        "import numpy as np"
      ]
    },
    {
      "cell_type": "code",
      "source": [
        "y_predicted = np.array([0,1,0,1,1,1,1,0,0,1])\n",
        "y_true = np.array([0.30,0.7,1,0,0.5,0.6,0.3,0.2,0.1,0.9])"
      ],
      "metadata": {
        "id": "GCl7okG7OAq0"
      },
      "execution_count": 2,
      "outputs": []
    },
    {
      "cell_type": "code",
      "source": [
        "def mae(y_predicted, y_true):\n",
        "    total_error = 0\n",
        "    for yp, yt in zip(y_predicted, y_true):\n",
        "        total_error += abs(yp - yt)\n",
        "    print(\"Total error is:\",total_error)\n",
        "    mae = total_error/len(y_predicted)\n",
        "    print(\"Mean absolute error is:\",mae)\n",
        "    return mae"
      ],
      "metadata": {
        "id": "oAuUaRN5OEq1"
      },
      "execution_count": 3,
      "outputs": []
    },
    {
      "cell_type": "code",
      "source": [
        "mae(y_predicted, y_true)"
      ],
      "metadata": {
        "colab": {
          "base_uri": "https://localhost:8080/"
        },
        "id": "XkKOZTRvOGLB",
        "outputId": "8a609205-bb51-454f-9957-c20a9bd22913"
      },
      "execution_count": 4,
      "outputs": [
        {
          "output_type": "stream",
          "name": "stdout",
          "text": [
            "Total error is: 4.6\n",
            "Mean absolute error is: 0.45999999999999996\n"
          ]
        },
        {
          "output_type": "execute_result",
          "data": {
            "text/plain": [
              "np.float64(0.45999999999999996)"
            ]
          },
          "metadata": {},
          "execution_count": 4
        }
      ]
    },
    {
      "cell_type": "code",
      "source": [
        "np.abs(y_predicted-y_true)"
      ],
      "metadata": {
        "colab": {
          "base_uri": "https://localhost:8080/"
        },
        "id": "6Ie2qma6OKWY",
        "outputId": "1c6237c6-d822-4b0e-846f-cdf7b7444108"
      },
      "execution_count": 5,
      "outputs": [
        {
          "output_type": "execute_result",
          "data": {
            "text/plain": [
              "array([0.3, 0.3, 1. , 1. , 0.5, 0.4, 0.7, 0.2, 0.1, 0.1])"
            ]
          },
          "metadata": {},
          "execution_count": 5
        }
      ]
    },
    {
      "cell_type": "code",
      "source": [
        "np.mean(np.abs(y_predicted-y_true))"
      ],
      "metadata": {
        "colab": {
          "base_uri": "https://localhost:8080/"
        },
        "id": "fBXfyFvcON-l",
        "outputId": "6ca1feb9-3fd2-4a58-d462-859241a00a1e"
      },
      "execution_count": 6,
      "outputs": [
        {
          "output_type": "execute_result",
          "data": {
            "text/plain": [
              "np.float64(0.45999999999999996)"
            ]
          },
          "metadata": {},
          "execution_count": 6
        }
      ]
    },
    {
      "cell_type": "code",
      "source": [
        "def mae_np(y_predicted, y_true):\n",
        "    return np.mean(np.abs(y_predicted-y_true))"
      ],
      "metadata": {
        "id": "m0EsbtaIOQzi"
      },
      "execution_count": 7,
      "outputs": []
    },
    {
      "cell_type": "code",
      "source": [
        "mae_np(y_predicted, y_true)"
      ],
      "metadata": {
        "colab": {
          "base_uri": "https://localhost:8080/"
        },
        "id": "EQrmCbmdOT3Q",
        "outputId": "9b0356c1-d7b1-4122-8858-d2ae0beffa64"
      },
      "execution_count": 8,
      "outputs": [
        {
          "output_type": "execute_result",
          "data": {
            "text/plain": [
              "np.float64(0.45999999999999996)"
            ]
          },
          "metadata": {},
          "execution_count": 8
        }
      ]
    },
    {
      "cell_type": "code",
      "source": [
        "epsilon = 1e-15"
      ],
      "metadata": {
        "id": "U13wxJxNOW1i"
      },
      "execution_count": 9,
      "outputs": []
    },
    {
      "cell_type": "code",
      "source": [
        "np.log([1e-15])"
      ],
      "metadata": {
        "colab": {
          "base_uri": "https://localhost:8080/"
        },
        "id": "Q9pvNylCOaCV",
        "outputId": "31f03821-0a7c-40d4-ce14-7055bb9b73fc"
      },
      "execution_count": 10,
      "outputs": [
        {
          "output_type": "execute_result",
          "data": {
            "text/plain": [
              "array([-34.53877639])"
            ]
          },
          "metadata": {},
          "execution_count": 10
        }
      ]
    },
    {
      "cell_type": "code",
      "source": [
        "y_predicted"
      ],
      "metadata": {
        "colab": {
          "base_uri": "https://localhost:8080/"
        },
        "id": "XBO9FTmUOaTs",
        "outputId": "46364492-7530-4fff-a04d-379e2c269d39"
      },
      "execution_count": 11,
      "outputs": [
        {
          "output_type": "execute_result",
          "data": {
            "text/plain": [
              "array([0, 1, 0, 1, 1, 1, 1, 0, 0, 1])"
            ]
          },
          "metadata": {},
          "execution_count": 11
        }
      ]
    },
    {
      "cell_type": "code",
      "source": [
        "y_predicted_new = [max(i,epsilon) for i in y_predicted]\n",
        "y_predicted_new"
      ],
      "metadata": {
        "colab": {
          "base_uri": "https://localhost:8080/"
        },
        "id": "xzTJ--lJOaWy",
        "outputId": "e2905e9c-ef59-4347-8ca1-a69d8d049dfd"
      },
      "execution_count": 12,
      "outputs": [
        {
          "output_type": "execute_result",
          "data": {
            "text/plain": [
              "[1e-15,\n",
              " np.int64(1),\n",
              " 1e-15,\n",
              " np.int64(1),\n",
              " np.int64(1),\n",
              " np.int64(1),\n",
              " np.int64(1),\n",
              " 1e-15,\n",
              " 1e-15,\n",
              " np.int64(1)]"
            ]
          },
          "metadata": {},
          "execution_count": 12
        }
      ]
    },
    {
      "cell_type": "code",
      "source": [
        "1-epsilon"
      ],
      "metadata": {
        "colab": {
          "base_uri": "https://localhost:8080/"
        },
        "id": "Ue9WOXl5Oj5_",
        "outputId": "74d77a20-9ec3-42b5-bb45-b3db5d7611e5"
      },
      "execution_count": 13,
      "outputs": [
        {
          "output_type": "execute_result",
          "data": {
            "text/plain": [
              "0.999999999999999"
            ]
          },
          "metadata": {},
          "execution_count": 13
        }
      ]
    },
    {
      "cell_type": "code",
      "source": [
        "y_predicted_new = [min(i,1-epsilon) for i in y_predicted_new]\n",
        "y_predicted_new"
      ],
      "metadata": {
        "colab": {
          "base_uri": "https://localhost:8080/"
        },
        "id": "wxgxQpcKOj8c",
        "outputId": "fc33d914-821a-469c-c101-417639555a1f"
      },
      "execution_count": 14,
      "outputs": [
        {
          "output_type": "execute_result",
          "data": {
            "text/plain": [
              "[1e-15,\n",
              " 0.999999999999999,\n",
              " 1e-15,\n",
              " 0.999999999999999,\n",
              " 0.999999999999999,\n",
              " 0.999999999999999,\n",
              " 0.999999999999999,\n",
              " 1e-15,\n",
              " 1e-15,\n",
              " 0.999999999999999]"
            ]
          },
          "metadata": {},
          "execution_count": 14
        }
      ]
    },
    {
      "cell_type": "code",
      "source": [
        "y_predicted_new = np.array(y_predicted_new)"
      ],
      "metadata": {
        "id": "_5gaRLigOj_9"
      },
      "execution_count": 15,
      "outputs": []
    },
    {
      "cell_type": "code",
      "source": [
        "np.log(y_predicted_new)"
      ],
      "metadata": {
        "colab": {
          "base_uri": "https://localhost:8080/"
        },
        "id": "1V8YyVLmOaaP",
        "outputId": "d87ce4c2-1ac9-4731-c0dc-a5f7aa831ffc"
      },
      "execution_count": 16,
      "outputs": [
        {
          "output_type": "execute_result",
          "data": {
            "text/plain": [
              "array([-3.45387764e+01, -9.99200722e-16, -3.45387764e+01, -9.99200722e-16,\n",
              "       -9.99200722e-16, -9.99200722e-16, -9.99200722e-16, -3.45387764e+01,\n",
              "       -3.45387764e+01, -9.99200722e-16])"
            ]
          },
          "metadata": {},
          "execution_count": 16
        }
      ]
    },
    {
      "cell_type": "code",
      "source": [
        "-np.mean(y_true*np.log(y_predicted_new)+(1-y_true)*np.log(1-y_predicted_new))"
      ],
      "metadata": {
        "colab": {
          "base_uri": "https://localhost:8080/"
        },
        "id": "UAfzs1-BO9V0",
        "outputId": "5e0d9e30-1247-4b7e-f6fc-4a5bc69dd6bf"
      },
      "execution_count": 17,
      "outputs": [
        {
          "output_type": "execute_result",
          "data": {
            "text/plain": [
              "np.float64(15.888077020887973)"
            ]
          },
          "metadata": {},
          "execution_count": 17
        }
      ]
    },
    {
      "cell_type": "code",
      "source": [
        "def log_loss(y_true, y_predicted):\n",
        "    y_predicted_new = [max(i,epsilon) for i in y_predicted]\n",
        "    y_predicted_new = [min(i,1-epsilon) for i in y_predicted_new]\n",
        "    y_predicted_new = np.array(y_predicted_new)\n",
        "    return -np.mean(y_true*np.log(y_predicted_new)+(1-y_true)*np.log(1-y_predicted_new))"
      ],
      "metadata": {
        "id": "UQPSqEBtPC9c"
      },
      "execution_count": 18,
      "outputs": []
    },
    {
      "cell_type": "code",
      "source": [
        "log_loss(y_true, y_predicted)"
      ],
      "metadata": {
        "colab": {
          "base_uri": "https://localhost:8080/"
        },
        "id": "v07z804nPDFp",
        "outputId": "856b0ca5-e899-45c7-bd38-366dd9d1df5b"
      },
      "execution_count": 19,
      "outputs": [
        {
          "output_type": "execute_result",
          "data": {
            "text/plain": [
              "np.float64(15.888077020887973)"
            ]
          },
          "metadata": {},
          "execution_count": 19
        }
      ]
    },
    {
      "cell_type": "code",
      "source": [
        "#Without Numpy\n",
        "def mse(y_predicted, y_true):\n",
        "    total_error = 0\n",
        "    for yp, yt in zip(y_predicted, y_true):\n",
        "        total_error += (yp - yt) ** 2\n",
        "    mse_value = total_error / len(y_predicted)\n",
        "    return mse_value\n",
        "\n",
        "print(mse(y_predicted, y_true))"
      ],
      "metadata": {
        "colab": {
          "base_uri": "https://localhost:8080/"
        },
        "id": "rJv0ZaIWPJnu",
        "outputId": "82d57f21-31f1-41d0-e832-29bdc334b8c3"
      },
      "execution_count": 20,
      "outputs": [
        {
          "output_type": "stream",
          "name": "stdout",
          "text": [
            "0.31399999999999995\n"
          ]
        }
      ]
    },
    {
      "cell_type": "code",
      "source": [
        "#With Numpy\n",
        "def mse_np(y_predicted, y_true):\n",
        "    return np.mean((y_predicted - y_true) ** 2)\n",
        "\n",
        "print(mse_np(y_predicted, y_true))"
      ],
      "metadata": {
        "id": "yQbCgsy3PLNT",
        "outputId": "b3491226-06fd-4ec5-c477-5041daf6a013",
        "colab": {
          "base_uri": "https://localhost:8080/"
        }
      },
      "execution_count": 21,
      "outputs": [
        {
          "output_type": "stream",
          "name": "stdout",
          "text": [
            "0.31399999999999995\n"
          ]
        }
      ]
    }
  ],
  "metadata": {
    "colab": {
      "provenance": []
    },
    "kernelspec": {
      "display_name": "Python 3",
      "name": "python3"
    },
    "language_info": {
      "name": "python"
    }
  },
  "nbformat": 4,
  "nbformat_minor": 0
}